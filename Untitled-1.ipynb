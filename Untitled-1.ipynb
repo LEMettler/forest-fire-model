{
 "cells": [
  {
   "cell_type": "code",
   "execution_count": 1,
   "metadata": {},
   "outputs": [
    {
     "name": "stdout",
     "output_type": "stream",
     "text": [
      "Using KIT colors.\n",
      "Custom style set.\n"
     ]
    }
   ],
   "source": [
    "import numpy as np\n",
    "import matplotlib.pyplot as plt\n",
    "import matplotlib.colors as mcolors\n",
    "from matplotlib import animation\n",
    "import lumiere as lm\n",
    "\n",
    "lm.loadstyle(True)"
   ]
  },
  {
   "cell_type": "markdown",
   "metadata": {},
   "source": [
    "## stepwise evaluation"
   ]
  },
  {
   "cell_type": "code",
   "execution_count": 2,
   "metadata": {},
   "outputs": [],
   "source": [
    "def neigbors2fire(fire_mask):\n",
    "    # for each dimension shift this forward/backward one \n",
    "\n",
    "    to_fire_mask = np.zeros_like(fire_mask).astype(bool)\n",
    "\n",
    "    for dim in range(len(grid.shape)):\n",
    "        tfm = fire_mask.copy()  # booleans of size grid\n",
    "        for shift_direction, clear_index in zip([-1, 1], [-1, 0]):\n",
    "            shifted_mask = np.roll(tfm, shift=shift_direction, axis=dim)\n",
    "            shifted_mask.swapaxes(0, dim)[clear_index] = False\n",
    "\n",
    "            to_fire_mask = np.logical_or(to_fire_mask, shifted_mask)\n",
    "\n",
    "    return to_fire_mask\n",
    "        \n",
    "\n",
    "\n",
    "def step(grid, prob_lightning=0.02, prob_planting=0.02):\n",
    "\n",
    "    elements = grid.copy()\n",
    "    \n",
    "    empty_mask = grid == 0\n",
    "    tree_mask = grid == 1\n",
    "    fire_mask = grid == 2\n",
    "\n",
    "    # tree turns to fire if neighbor(s) are fire\n",
    "    next_to_fire_mask = neigbors2fire(fire_mask)\n",
    "    trees_next_to_fire_mask = np.logical_and(tree_mask, next_to_fire_mask)\n",
    "    elements[trees_next_to_fire_mask] = 2\n",
    "    \n",
    "    \n",
    "    # previous fire turns to empty\n",
    "    elements[fire_mask] = 0\n",
    "\n",
    "    # empty turns to tree with prob.\n",
    "    elements[empty_mask] = np.random.choice(a=[1, 0], p=[prob_planting, 1-prob_planting], size=elements[empty_mask].shape)\n",
    "\n",
    "    # tree turns to fire with prob.\n",
    "    tree_mask = np.logical_and(tree_mask, ~trees_next_to_fire_mask)\n",
    "    elements[tree_mask] = np.random.choice(a=[2, 1], p=[prob_lightning, 1-prob_lightning], size=elements[tree_mask].shape)\n",
    "\n",
    "    return elements"
   ]
  },
  {
   "cell_type": "markdown",
   "metadata": {},
   "source": [
    "## loop of states"
   ]
  },
  {
   "cell_type": "code",
   "execution_count": 10,
   "metadata": {},
   "outputs": [],
   "source": [
    "dims = (10, 10)\n",
    "grid = np.ones(dims)"
   ]
  },
  {
   "cell_type": "code",
   "execution_count": 11,
   "metadata": {},
   "outputs": [
    {
     "data": {
      "image/png": "[encoded data removed]",
      "text/plain": [
       "<Figure size 800x800 with 1 Axes>"
      ]
     },
     "metadata": {},
     "output_type": "display_data"
    }
   ],
   "source": [
    "fig, ax = plt.subplots(figsize=(8,8))\n",
    "ax.set_xticks([])\n",
    "ax.set_yticks([])\n",
    "\n",
    "colors = ['gray', 'green', 'red']\n",
    "cmap = mcolors.ListedColormap(colors)\n",
    "norm = mcolors.BoundaryNorm(range(0,4), cmap.N)\n",
    "\n",
    "\n",
    "current_grid = np.random.randint(size=dims, low=0, high=3)\n",
    "container = ax.imshow(current_grid, animated=True, cmap=cmap, norm=norm)\n",
    "\n",
    "timeline = [current_grid]\n",
    "artists = [[container]]\n",
    "\n",
    "for i in range(2):\n",
    "    current_grid = step(current_grid)\n",
    "    container = ax.imshow(current_grid, animated=True, cmap=cmap, norm=norm)\n",
    "    \n",
    "    timeline.append(current_grid)\n",
    "    artists.append([container])\n",
    "\n",
    "\n",
    "anim = animation.ArtistAnimation(fig=fig, artists=artists, interval=500, blit=True)\n",
    "anim.save('file.mp4')\n",
    "plt.show()\n",
    "\n"
   ]
  },
  {
   "cell_type": "code",
   "execution_count": 12,
   "metadata": {},
   "outputs": [
    {
     "data": {
      "text/plain": [
       "array([[0, 0, 0, 0, 2, 0, 0, 0, 0, 0],\n",
       "       [0, 0, 0, 0, 0, 0, 0, 0, 0, 0],\n",
       "       [2, 0, 0, 0, 0, 0, 0, 0, 0, 0],\n",
       "       [0, 0, 0, 0, 2, 0, 0, 0, 0, 0],\n",
       "       [0, 0, 2, 0, 0, 0, 0, 0, 1, 1],\n",
       "       [0, 1, 1, 0, 0, 0, 0, 0, 0, 0],\n",
       "       [0, 0, 1, 0, 0, 0, 0, 0, 0, 0],\n",
       "       [0, 0, 0, 2, 0, 0, 0, 0, 0, 0],\n",
       "       [0, 0, 0, 0, 0, 0, 0, 0, 0, 0],\n",
       "       [1, 0, 0, 0, 0, 0, 0, 0, 0, 0]])"
      ]
     },
     "execution_count": 12,
     "metadata": {},
     "output_type": "execute_result"
    }
   ],
   "source": [
    "current_grid"
   ]
  },
  {
   "cell_type": "code",
   "execution_count": 13,
   "metadata": {},
   "outputs": [],
   "source": [
    "def sum_each_dimension(grid):\n",
    "    return [grid.sum(axis=i) for i in range(grid.ndim)]\n"
   ]
  },
  {
   "cell_type": "code",
   "execution_count": 17,
   "metadata": {},
   "outputs": [
    {
     "name": "stdout",
     "output_type": "stream",
     "text": [
      "[[ 0  1  2  3  4]\n",
      " [ 5  6  7  8  9]\n",
      " [10 11 12 13 14]\n",
      " [15 16 17 18 19]]\n"
     ]
    }
   ],
   "source": [
    "test = np.arange(20).reshape((4,5))\n",
    "print(test)"
   ]
  },
  {
   "cell_type": "code",
   "execution_count": 18,
   "metadata": {},
   "outputs": [
    {
     "name": "stdout",
     "output_type": "stream",
     "text": [
      "[array([30, 34, 38, 42, 46]), array([10, 35, 60, 85])]\n"
     ]
    }
   ],
   "source": [
    "\n",
    "print(sum_each_dimension(test))"
   ]
  },
  {
   "cell_type": "code",
   "execution_count": 29,
   "metadata": {},
   "outputs": [
    {
     "data": {
      "text/plain": [
       "[<matplotlib.lines.Line2D at 0x7f12613e2b60>,\n",
       " <matplotlib.lines.Line2D at 0x7f12613e2c50>,\n",
       " <matplotlib.lines.Line2D at 0x7f12613e2d40>]"
      ]
     },
     "execution_count": 29,
     "metadata": {},
     "output_type": "execute_result"
    },
    {
     "data": {
      "image/png": "[encoded data removed]",
      "text/plain": [
       "<Figure size 1200x600 with 1 Axes>"
      ]
     },
     "metadata": {},
     "output_type": "display_data"
    }
   ],
   "source": [
    "x = np.random.randn(5, 3)*2 + 5\n",
    "\n",
    "plt.plot(x, drawstyle='steps-mid', color='r')"
   ]
  },
  {
   "cell_type": "code",
   "execution_count": 42,
   "metadata": {},
   "outputs": [
    {
     "data": {
      "text/plain": [
       "array([ 0,  1,  2,  3,  4,  5,  6,  7,  8,  9, 10, 11, 12, 13, 14, 15, 16,\n",
       "       17, 18, 19])"
      ]
     },
     "execution_count": 42,
     "metadata": {},
     "output_type": "execute_result"
    }
   ],
   "source": [
    "x = np.arange(20)\n",
    "x"
   ]
  },
  {
   "cell_type": "code",
   "execution_count": 50,
   "metadata": {},
   "outputs": [
    {
     "data": {
      "text/plain": [
       "10"
      ]
     },
     "execution_count": 50,
     "metadata": {},
     "output_type": "execute_result"
    }
   ],
   "source": [
    "x.shape[0]//2"
   ]
  },
  {
   "cell_type": "code",
   "execution_count": 48,
   "metadata": {},
   "outputs": [
    {
     "data": {
      "text/plain": [
       "array([[ 0],\n",
       "       [ 1],\n",
       "       [ 2],\n",
       "       [ 3],\n",
       "       [ 4],\n",
       "       [ 5],\n",
       "       [ 6],\n",
       "       [ 7],\n",
       "       [ 8],\n",
       "       [ 9],\n",
       "       [10],\n",
       "       [11],\n",
       "       [12],\n",
       "       [13],\n",
       "       [14],\n",
       "       [15],\n",
       "       [16],\n",
       "       [17],\n",
       "       [18],\n",
       "       [19]])"
      ]
     },
     "execution_count": 48,
     "metadata": {},
     "output_type": "execute_result"
    }
   ],
   "source": [
    "x.reshape("
   ]
  },
  {
   "cell_type": "code",
   "execution_count": 17,
   "metadata": {},
   "outputs": [],
   "source": [
    "def analyzeforest(grid):\n",
    "    n_empty = (grid== 0).astype(int).flatten().sum()\n",
    "    n_tree = (grid== 1).astype(int).flatten().sum()\n",
    "    n_fire = (grid== 2).astype(int).flatten().sum()\n",
    "    x = grid.n\n",
    "    return {0: n_empty, 1: n_tree, 2: n_fire}\n"
   ]
  },
  {
   "cell_type": "code",
   "execution_count": 18,
   "metadata": {},
   "outputs": [
    {
     "data": {
      "text/plain": [
       "{0: 22, 1: 3, 2: 0}"
      ]
     },
     "execution_count": 18,
     "metadata": {},
     "output_type": "execute_result"
    }
   ],
   "source": [
    "analyzeforest(current_grid)"
   ]
  },
  {
   "cell_type": "code",
   "execution_count": 7,
   "metadata": {},
   "outputs": [
    {
     "data": {
      "text/plain": [
       "[<matplotlib.lines.Line2D at 0x7f3d8a369a50>,\n",
       " <matplotlib.lines.Line2D at 0x7f3d8a369a80>,\n",
       " <matplotlib.lines.Line2D at 0x7f3d8a369b70>]"
      ]
     },
     "execution_count": 7,
     "metadata": {},
     "output_type": "execute_result"
    },
    {
     "data": {
      "image/png": "[encoded data removed]",
      "text/plain": [
       "<Figure size 1200x600 with 1 Axes>"
      ]
     },
     "metadata": {},
     "output_type": "display_data"
    }
   ],
   "source": [
    "plt.plot([[1,2,3],[1,2,3]])"
   ]
  },
  {
   "cell_type": "code",
   "execution_count": 34,
   "metadata": {},
   "outputs": [
    {
     "data": {
      "text/plain": [
       "[<matplotlib.collections.PolyCollection at 0x7f3d8608a350>,\n",
       " <matplotlib.collections.PolyCollection at 0x7f3d8608a6e0>,\n",
       " <matplotlib.collections.PolyCollection at 0x7f3d861f7c10>]"
      ]
     },
     "execution_count": 34,
     "metadata": {},
     "output_type": "execute_result"
    },
    {
     "data": {
      "image/png": "[encoded data removed]",
      "text/plain": [
       "<Figure size 1200x600 with 1 Axes>"
      ]
     },
     "metadata": {},
     "output_type": "display_data"
    }
   ],
   "source": [
    "plt.stackplot([0,1], np.transpose([[0.2, 0.4, 0.4]]*2))"
   ]
  },
  {
   "cell_type": "code",
   "execution_count": 8,
   "metadata": {},
   "outputs": [],
   "source": [
    "xx = {0:'a', 1:'b'}"
   ]
  },
  {
   "cell_type": "code",
   "execution_count": 15,
   "metadata": {},
   "outputs": [
    {
     "data": {
      "text/plain": [
       "dict_items([(0, 'a'), (1, 'b')])"
      ]
     },
     "execution_count": 15,
     "metadata": {},
     "output_type": "execute_result"
    }
   ],
   "source": [
    "xx.items()"
   ]
  }
 ],
 "metadata": {
  "kernelspec": {
   "display_name": "Python 3",
   "language": "python",
   "name": "python3"
  },
  "language_info": {
   "codemirror_mode": {
    "name": "ipython",
    "version": 3
   },
   "file_extension": ".py",
   "mimetype": "text/x-python",
   "name": "python",
   "nbconvert_exporter": "python",
   "pygments_lexer": "ipython3",
   "version": "3.10.12"
  }
 },
 "nbformat": 4,
 "nbformat_minor": 2
}
