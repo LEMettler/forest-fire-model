{
 "cells": [
  {
   "cell_type": "code",
   "execution_count": 19,
   "metadata": {},
   "outputs": [
    {
     "name": "stdout",
     "output_type": "stream",
     "text": [
      "Using KIT colors.\n",
      "Custom style set.\n"
     ]
    }
   ],
   "source": [
    "import numpy as np\n",
    "import matplotlib.pyplot as plt\n",
    "import matplotlib.colors as mcolors\n",
    "from matplotlib import animation\n",
    "import lumiere as lm\n",
    "\n",
    "lm.loadstyle(True)"
   ]
  },
  {
   "cell_type": "markdown",
   "metadata": {},
   "source": [
    "## stepwise evaluation"
   ]
  },
  {
   "cell_type": "code",
   "execution_count": 2,
   "metadata": {},
   "outputs": [],
   "source": [
    "def neigbors2fire(fire_mask):\n",
    "    # for each dimension shift this forward/backward one \n",
    "\n",
    "    to_fire_mask = np.zeros_like(fire_mask).astype(bool)\n",
    "\n",
    "    for dim in range(len(grid.shape)):\n",
    "        tfm = fire_mask.copy()  # booleans of size grid\n",
    "        for shift_direction, clear_index in zip([-1, 1], [-1, 0]):\n",
    "            shifted_mask = np.roll(tfm, shift=shift_direction, axis=dim)\n",
    "            shifted_mask.swapaxes(0, dim)[clear_index] = False\n",
    "\n",
    "            to_fire_mask = np.logical_or(to_fire_mask, shifted_mask)\n",
    "\n",
    "    return to_fire_mask\n",
    "        \n",
    "\n",
    "\n",
    "def step(grid, prob_lightning=0.02, prob_planting=0.02):\n",
    "\n",
    "    elements = grid.copy()\n",
    "    \n",
    "    empty_mask = grid == 0\n",
    "    tree_mask = grid == 1\n",
    "    fire_mask = grid == 2\n",
    "\n",
    "    # tree turns to fire if neighbor(s) are fire\n",
    "    next_to_fire_mask = neigbors2fire(fire_mask)\n",
    "    trees_next_to_fire_mask = np.logical_and(tree_mask, next_to_fire_mask)\n",
    "    elements[trees_next_to_fire_mask] = 2\n",
    "    \n",
    "    \n",
    "    # previous fire turns to empty\n",
    "    elements[fire_mask] = 0\n",
    "\n",
    "    # empty turns to tree with prob.\n",
    "    elements[empty_mask] = np.random.choice(a=[1, 0], p=[prob_planting, 1-prob_planting], size=elements[empty_mask].shape)\n",
    "\n",
    "    # tree turns to fire with prob.\n",
    "    tree_mask = np.logical_and(tree_mask, ~trees_next_to_fire_mask)\n",
    "    elements[tree_mask] = np.random.choice(a=[2, 1], p=[prob_lightning, 1-prob_lightning], size=elements[tree_mask].shape)\n",
    "\n",
    "    return elements"
   ]
  },
  {
   "cell_type": "markdown",
   "metadata": {},
   "source": [
    "## loop of states"
   ]
  },
  {
   "cell_type": "code",
   "execution_count": 3,
   "metadata": {},
   "outputs": [],
   "source": [
    "dims = (5, 5)\n",
    "grid = np.ones(dims)"
   ]
  },
  {
   "cell_type": "code",
   "execution_count": 25,
   "metadata": {},
   "outputs": [
    {
     "data": {
      "image/png": "[encoded data removed]",
      "text/plain": [
       "<Figure size 800x800 with 1 Axes>"
      ]
     },
     "metadata": {},
     "output_type": "display_data"
    }
   ],
   "source": [
    "fig, ax = plt.subplots(figsize=(8,8))\n",
    "ax.set_xticks([])\n",
    "ax.set_yticks([])\n",
    "\n",
    "colors = ['gray', 'green', 'red']\n",
    "cmap = mcolors.ListedColormap(colors)\n",
    "norm = mcolors.BoundaryNorm(range(0,4), cmap.N)\n",
    "\n",
    "\n",
    "current_grid = np.random.randint(size=dims, low=0, high=3)\n",
    "container = ax.imshow(current_grid, animated=True, cmap=cmap, norm=norm)\n",
    "\n",
    "timeline = [current_grid]\n",
    "artists = [[container]]\n",
    "\n",
    "for i in range(10):\n",
    "    current_grid = step(current_grid)\n",
    "    container = ax.imshow(current_grid, animated=True, cmap=cmap, norm=norm)\n",
    "    \n",
    "    timeline.append(current_grid)\n",
    "    artists.append([container])\n",
    "\n",
    "\n",
    "anim = animation.ArtistAnimation(fig=fig, artists=artists, interval=500, blit=True)\n",
    "anim.save('file.mp4')\n",
    "plt.show()\n",
    "\n"
   ]
  }
 ],
 "metadata": {
  "kernelspec": {
   "display_name": "Python 3",
   "language": "python",
   "name": "python3"
  },
  "language_info": {
   "codemirror_mode": {
    "name": "ipython",
    "version": 3
   },
   "file_extension": ".py",
   "mimetype": "text/x-python",
   "name": "python",
   "nbconvert_exporter": "python",
   "pygments_lexer": "ipython3",
   "version": "3.10.12"
  }
 },
 "nbformat": 4,
 "nbformat_minor": 2
}
